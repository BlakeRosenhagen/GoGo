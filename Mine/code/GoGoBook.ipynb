{
 "cells": [
  {
   "cell_type": "code",
   "execution_count": null,
   "metadata": {},
   "outputs": [],
   "source": [
    "run bot_v_bot"
   ]
  },
  {
   "cell_type": "code",
   "execution_count": null,
   "metadata": {},
   "outputs": [],
   "source": [
    "from dlgo import goboard_slow as goboard"
   ]
  },
  {
   "cell_type": "code",
   "execution_count": 5,
   "metadata": {},
   "outputs": [
    {
     "ename": "AttributeError",
     "evalue": "'NoneType' object has no attribute 'disks'",
     "output_type": "error",
     "traceback": [
      "\u001b[1;31m---------------------------------------------------------------------------\u001b[0m",
      "\u001b[1;31mAttributeError\u001b[0m                            Traceback (most recent call last)",
      "\u001b[1;32m<ipython-input-5-02c0a2dad515>\u001b[0m in \u001b[0;36m<module>\u001b[1;34m\u001b[0m\n\u001b[0;32m      7\u001b[0m \u001b[0mgame\u001b[0m\u001b[1;33m.\u001b[0m\u001b[0mboard\u001b[0m\u001b[1;33m.\u001b[0m\u001b[0m_grid\u001b[0m\u001b[1;33m[\u001b[0m\u001b[0mcandidate\u001b[0m\u001b[1;33m]\u001b[0m \u001b[1;33m=\u001b[0m \u001b[0mDiskString\u001b[0m\u001b[1;33m(\u001b[0m\u001b[0mPlayer\u001b[0m\u001b[1;33m.\u001b[0m\u001b[0mblack\u001b[0m\u001b[1;33m,\u001b[0m \u001b[0mcandidate\u001b[0m\u001b[1;33m,\u001b[0m \u001b[1;33m(\u001b[0m\u001b[1;36m1\u001b[0m\u001b[1;33m,\u001b[0m\u001b[1;36m2\u001b[0m\u001b[1;33m)\u001b[0m\u001b[1;33m)\u001b[0m\u001b[1;33m\u001b[0m\u001b[1;33m\u001b[0m\u001b[0m\n\u001b[0;32m      8\u001b[0m \u001b[0mnext_point\u001b[0m \u001b[1;33m=\u001b[0m \u001b[0mgame\u001b[0m\u001b[1;33m.\u001b[0m\u001b[0mboard\u001b[0m\u001b[1;33m.\u001b[0m\u001b[0m_grid\u001b[0m\u001b[1;33m.\u001b[0m\u001b[0mget\u001b[0m\u001b[1;33m(\u001b[0m\u001b[0mnew_candidate\u001b[0m\u001b[1;33m)\u001b[0m\u001b[1;33m\u001b[0m\u001b[1;33m\u001b[0m\u001b[0m\n\u001b[1;32m----> 9\u001b[1;33m \u001b[0mnext_point\u001b[0m\u001b[1;33m.\u001b[0m\u001b[0mdisks\u001b[0m\u001b[1;33m\u001b[0m\u001b[1;33m\u001b[0m\u001b[0m\n\u001b[0m",
      "\u001b[1;31mAttributeError\u001b[0m: 'NoneType' object has no attribute 'disks'"
     ]
    }
   ],
   "source": [
    "game = GameState.new_game(9)\n",
    "candidate = Point(1,1)\n",
    "new_candidate = Point(8,8)\n",
    "#if game_state.is_valid_move(Move.play(candidate)):\n",
    "#    print(\"works\")\n",
    "move = Move.play(candidate)\n",
    "game.board._grid[candidate] = DiskString(Player.black, candidate, (1,2))\n",
    "next_point = game.board._grid.get(new_candidate)\n",
    "next_point.disks"
   ]
  },
  {
   "cell_type": "code",
   "execution_count": 1,
   "metadata": {},
   "outputs": [],
   "source": [
    "import numpy as np\n",
    "# tag::imports[]\n",
    "import copy\n",
    "from dlgo.gotypes import Player\n",
    "# end::imports[]\n",
    "from dlgo.gotypes import Point\n",
    "from dlgo.scoring import compute_game_result\n",
    "\n",
    "__all__ = [\n",
    "    'Board',\n",
    "    'GameState',\n",
    "    'Move',\n",
    "]\n",
    "\n",
    "\n",
    "class IllegalMoveError(Exception):\n",
    "    pass\n",
    "\n",
    "\n",
    "class DiskString():\n",
    "    def __init__(self, color, disks, liberties):\n",
    "        self.color = color\n",
    "        self.disks = set(disks)\n",
    "        self.liberties = set(liberties)\n",
    "    \n",
    "    def flip(self):\n",
    "        return DiskString(self.color.other, self.disks, self.liberties)\n",
    "\n",
    "    def remove_liberty(self, point):\n",
    "        self.liberties.remove(point)\n",
    "\n",
    "    def add_liberty(self, point):\n",
    "        self.liberties.add(point)\n",
    "\n",
    "    @property\n",
    "    def num_liberties(self):\n",
    "        return len(self.liberties)\n",
    "\n",
    "    @property\n",
    "    def is_locked(self):\n",
    "        return len(self.liberties) == 0\n",
    "\n",
    "    def __eq__(self, other):\n",
    "        return isinstance(other, DiskString) and \\\n",
    "            self.color == other.color and \\\n",
    "            self.disks == other.disks and \\\n",
    "            self.liberties == other.liberties\n",
    "\n",
    "class Board():\n",
    "    def __init__(self, num_rows, num_cols):\n",
    "        self.num_rows = num_rows\n",
    "        self.num_cols = num_cols\n",
    "        self._grid = {}\n",
    "\n",
    "    def place_stone(self, player, point):\n",
    "        assert self.is_on_grid(point)\n",
    "        assert self._grid.get(point) is None\n",
    "        vectors = [(1,0),(1,1),(0,1),(-1,1),(-1,0),(-1,-1),(0,-1),(1,-1)]\n",
    "        for vector in vectors:\n",
    "            disk_line = flipable(player, point, vector)\n",
    "            if len(disk_line) == 0:\n",
    "                continue\n",
    "            if len(disk_line) > 0:\n",
    "                for disk_string in disk_line:\n",
    "                    #might need to replace each in Board\n",
    "                    #\n",
    "                    #\n",
    "                    flipped_string = disk_string.flip()\n",
    "                    for point in flipped_string.disks:\n",
    "                        self._grid[point] = flipped_string\n",
    "        liberties = []\n",
    "        for neighbor in point.neighbors():\n",
    "            if not self.is_on_grid(neighbor):\n",
    "                continue\n",
    "            neighbor_string = self._grid.get(neighbor)\n",
    "            if neighbor_string is None:\n",
    "                liberties.append(neighbor)\n",
    "           \n",
    "            if neighbor_string is not None:\n",
    "                neighbor_string.remove_liberty(point)\n",
    "        new_string = DiskString(player, [point], liberties)\n",
    "        for new_string_point in new_string.disks:\n",
    "            self._grid[new_string_point] = new_string\n",
    "\n",
    "    def flipable(self, player, point, vector, disk_line={}, count=0):\n",
    "        count = count\n",
    "        disk_line = disk_line\n",
    "        next_point = self._grid.get(point.next_in_line(vector))\n",
    "        return next_point\n",
    "        #if next_point.color == player.other:\n",
    "        #    disk_line[str(count)] = next_point\n",
    "        #elif next_point.color == player:\n",
    "        #    return disk_line\n",
    "        #elif next_point.color is None:\n",
    "        #    disk_line = {}\n",
    "        #    return disk_line\n",
    "        #count += 1\n",
    "        #flipable(self, player, move, vector, disk_line, count)\n",
    "\n",
    "    \"\"\"\n",
    "    def _remove_string(self, string):\n",
    "        for point in string.disks:\n",
    "            for neighbor in point.neighbors():  # <1>\n",
    "                neighbor_string = self._grid.get(neighbor)\n",
    "                if neighbor_string is None:\n",
    "                    continue\n",
    "                if neighbor_string is not string:\n",
    "                    neighbor_string.add_liberty(point)\n",
    "            del(self._grid[point])\n",
    "    \"\"\"\n",
    "        \n",
    "\n",
    "    def is_on_grid(self, point):\n",
    "        return 1 <= point.row <= self.num_rows and \\\n",
    "            1 <= point.col <= self.num_cols\n",
    "\n",
    "    def get(self, point):  # <1>\n",
    "        string = self._grid.get(point)\n",
    "        if string is None:\n",
    "            return None\n",
    "        return string.color\n",
    "\n",
    "    def get_go_string(self, point):  # <2>\n",
    "        string = self._grid.get(point)\n",
    "        if string is None:\n",
    "            return None\n",
    "        return string\n",
    "\n",
    "    def count_disks(self):\n",
    "        black_disks = 0\n",
    "        white_disks = 0\n",
    "        no_disks = 0\n",
    "        for row in range(self.num_cols):\n",
    "            for col in range(self.num_rows):\n",
    "                disk = board.get(gotypes.Point(row=row, col=col))\n",
    "                if disk == Player.black:\n",
    "                    black_disks += 1\n",
    "                elif disk == Player.white:\n",
    "                    white_disks += 1\n",
    "                else:\n",
    "                    no_disks += 1\n",
    "        return black_disks, white_disks, no_disks\n",
    "\n",
    "\n",
    "    def __eq__(self, other):\n",
    "        return isinstance(other, Board) and \\\n",
    "            self.num_rows == other.num_rows and \\\n",
    "            self.num_cols == other.num_cols and \\\n",
    "            self._grid == other._grid\n",
    "\n",
    "\n",
    "# tag::moves[]\n",
    "class Move():  # <1>\n",
    "    def __init__(self, point=None, is_pass=False):\n",
    "        assert (point is not None) ^ is_pass\n",
    "        self.point = point\n",
    "        self.is_play = (self.point is not None)\n",
    "        self.is_pass = is_pass\n",
    "\n",
    "    @classmethod\n",
    "    def play(cls, point):  # <2>\n",
    "        return Move(point=point)\n",
    "\n",
    "    @classmethod\n",
    "    def pass_turn(cls):  # <3>\n",
    "        return Move(is_pass=True)\n",
    "\n",
    "# tag::game_state[]\n",
    "class GameState():\n",
    "    def __init__(self, board, next_player, previous, move):\n",
    "        self.board = board\n",
    "        self.next_player = next_player\n",
    "        self.previous_state = previous\n",
    "        self.last_move = move\n",
    "\n",
    "    def apply_move(self, move):  # <1>\n",
    "        if move.is_play:\n",
    "            next_board = copy.deepcopy(self.board)\n",
    "            next_board.place_stone(self.next_player, move.point)\n",
    "        else:\n",
    "            next_board = self.board\n",
    "        #in future to save a list of moves, modify what happens in return\n",
    "        # or use the last generated gamestate and recersively bring out data\n",
    "        return GameState(next_board, self.next_player.other, self, move)\n",
    "\n",
    "    @classmethod\n",
    "    def new_game(cls, board_size):\n",
    "        if isinstance(board_size, int):\n",
    "            board_size = (board_size, board_size)\n",
    "        board = Board(*board_size)\n",
    "        return GameState(board, Player.black, None, None)\n",
    "\n",
    "    def is_move_self_capture(self, player, move):\n",
    "        if not move.is_play:\n",
    "            return False\n",
    "        next_board = copy.deepcopy(self.board)\n",
    "        next_board.place_stone(player, move.point)\n",
    "        new_string = next_board.get_go_string(move.point)\n",
    "        return new_string.num_liberties == 0\n",
    "\n",
    "    @property\n",
    "    def situation(self):\n",
    "        return (self.next_player, self.board)\n",
    "\n",
    "    def does_move_capture(self, player, move):\n",
    "        if not move.is_play:\n",
    "            return False\n",
    "        captured = 0\n",
    "        vectors = [(1,0),(1,1),(0,1),(-1,1),(-1,0),(-1,-1),(0,-1),(1,-1)]\n",
    "        for vector in vectors:\n",
    "            disk_line = self.board.flipable(player, move.point, vector)\n",
    "            captured += len(disk_line)\n",
    "        return captured >= 0\n",
    "\n",
    "    \"\"\" next_board = copy.deepcopy(self.board)\n",
    "        next_board.place_stone(player, move.point)\n",
    "        if player == Player.black:\n",
    "            return self.board.count_disks[1] + 1 < next_board.count_disks[1]\n",
    "        elif player == Player.white:\n",
    "            return self.board.count_disks[2] + 1 < next_board.count_disks[2]\n",
    "    \"\"\"\n",
    "    def is_valid_move(self, move):\n",
    "        if self.is_over():\n",
    "            return False\n",
    "        if move.is_pass:\n",
    "            return True\n",
    "        return (\n",
    "            self.board.get(move.point) is None and\n",
    "            self.does_move_capture(self.next_player, move))\n",
    "\n",
    "    def is_over(self):\n",
    "        if self.last_move is None:\n",
    "            return False\n",
    "        second_last_move = self.previous_state.last_move\n",
    "        if second_last_move is None:\n",
    "            return False\n",
    "        return self.last_move.is_pass and second_last_move.is_pass\n",
    "\n",
    "    def legal_moves_narrowed(self):\n",
    "        \"narrow down the search to oppornent's disk's liberties\"\n",
    "        moves = []\n",
    "        opponents_liberties = []\n",
    "        for  string in self.board._grid:\n",
    "            if string.color == self.next_player:\n",
    "                continue\n",
    "            elif string.color == self.next_player.other:\n",
    "                for liberty in string.liberties:\n",
    "                    opponents_liberties.append(liberty)\n",
    "        \n",
    "        #for liberty in opponents_liberties:\n",
    "        #    move = Move.play(liberty)\n",
    "        #    if is_valid_move(move):\n",
    "        #        moves.append(move)\n",
    "        #for row in self.board.num_rows:\n",
    "        #    for col in self.board.num_col:\n",
    "        #        move = Move.play(Point(row, col))\n",
    "        #        if self.is_valid_move(move):\n",
    "        #            moves.append(move)\n",
    "        #moves.append(Move.pass_turn())\n",
    "\n",
    "        return moves\n",
    "\n",
    "    #def legal_moves(self):\n",
    "    #    moves = []\n",
    "    #    for row in range(1, self.board.num_rows + 1):\n",
    "    #        for col in range(1, self.board.num_cols + 1):\n",
    "    #            move = Move.play(Point(row, col))\n",
    "    #            if self.is_valid_move(move):\n",
    "    #                moves.append(move)\n",
    "    #    # These two moves are always legal.\n",
    "    #    moves.append(Move.pass_turn())\n",
    "    #    moves.append(Move.resign())\n",
    "\n",
    "    #    return moves\n",
    "\n",
    "    def winner(self):\n",
    "        if not self.is_over():\n",
    "            return None\n",
    "        if self.last_move.is_resign:\n",
    "            return self.next_player\n",
    "        game_result = compute_game_result(self)\n",
    "        return game_result.winner\n"
   ]
  },
  {
   "cell_type": "code",
   "execution_count": null,
   "metadata": {},
   "outputs": [],
   "source": [
    "def first():\n",
    "    frog = 8\n",
    "    toad = 8\n",
    "    return (frog, toad)\n",
    "def second():\n",
    "    bug = 5\n",
    "    crabdddd = 8\n",
    "    return (bug, crabdddd)\n"
   ]
  },
  {
   "cell_type": "code",
   "execution_count": null,
   "metadata": {},
   "outputs": [],
   "source": [
    "first()[0]"
   ]
  },
  {
   "cell_type": "code",
   "execution_count": null,
   "metadata": {},
   "outputs": [],
   "source": [
    "second()[0]"
   ]
  },
  {
   "cell_type": "code",
   "execution_count": null,
   "metadata": {},
   "outputs": [],
   "source": [
    "first()[0] == second()[1]"
   ]
  },
  {
   "cell_type": "code",
   "execution_count": null,
   "metadata": {},
   "outputs": [],
   "source": [
    "vec = (1,0)"
   ]
  },
  {
   "cell_type": "code",
   "execution_count": null,
   "metadata": {},
   "outputs": [],
   "source": [
    "vec[0]"
   ]
  },
  {
   "cell_type": "code",
   "execution_count": null,
   "metadata": {},
   "outputs": [],
   "source": []
  },
  {
   "cell_type": "code",
   "execution_count": null,
   "metadata": {},
   "outputs": [],
   "source": []
  },
  {
   "cell_type": "code",
   "execution_count": null,
   "metadata": {},
   "outputs": [],
   "source": []
  },
  {
   "cell_type": "code",
   "execution_count": null,
   "metadata": {},
   "outputs": [],
   "source": []
  },
  {
   "cell_type": "code",
   "execution_count": null,
   "metadata": {},
   "outputs": [],
   "source": []
  },
  {
   "cell_type": "code",
   "execution_count": null,
   "metadata": {},
   "outputs": [],
   "source": [
    "from collections import namedtuple"
   ]
  },
  {
   "cell_type": "code",
   "execution_count": null,
   "metadata": {},
   "outputs": [],
   "source": [
    "class Point(namedtuple('Point', 'row col')):\n",
    "    def neighbors(self):\n",
    "        return [\n",
    "            Point(self.row + 1, self.col),\n",
    "            Point(self.row + 1, self.col + 1),\n",
    "            Point(self.row, self.col + 1),\n",
    "            Point(self.row - 1, self.col + 1),\n",
    "            Point(self.row - 1, self.col),\n",
    "            Point(self.row - 1, self.col - 1),\n",
    "            Point(self.row, self.col - 1),\n",
    "            Point(self.row + 1, self.col - 1)]"
   ]
  },
  {
   "cell_type": "code",
   "execution_count": null,
   "metadata": {},
   "outputs": [],
   "source": [
    "def place_stone(point):\n",
    "        for neighbor in point.neighbors():\n",
    "            vector = (neighbor.row - point.row, neighbor.col - point.col)\n",
    "            print(vector)"
   ]
  },
  {
   "cell_type": "code",
   "execution_count": null,
   "metadata": {},
   "outputs": [],
   "source": [
    " point = Point(3,4)\n",
    "point.row"
   ]
  },
  {
   "cell_type": "code",
   "execution_count": null,
   "metadata": {},
   "outputs": [],
   "source": [
    "place_stone(point)"
   ]
  },
  {
   "cell_type": "code",
   "execution_count": null,
   "metadata": {},
   "outputs": [],
   "source": [
    "dictionary = {}"
   ]
  },
  {
   "cell_type": "code",
   "execution_count": null,
   "metadata": {},
   "outputs": [],
   "source": [
    "dictionary[\"999\"] = 33"
   ]
  },
  {
   "cell_type": "code",
   "execution_count": null,
   "metadata": {},
   "outputs": [],
   "source": [
    "dictionary"
   ]
  },
  {
   "cell_type": "code",
   "execution_count": null,
   "metadata": {},
   "outputs": [],
   "source": [
    "class stand():\n",
    "    def __init__(self):\n",
    "        self.a = 3\n",
    "    def change(self):\n",
    "        self.a += 1\n",
    "    \n",
    "    @classmethod\n",
    "    def locked(self):\n",
    "        return self.a"
   ]
  },
  {
   "cell_type": "code",
   "execution_count": null,
   "metadata": {},
   "outputs": [],
   "source": [
    "sand = stand()\n",
    "sand.a"
   ]
  },
  {
   "cell_type": "code",
   "execution_count": null,
   "metadata": {},
   "outputs": [],
   "source": [
    "respond = sand.locked\n",
    "print(respond)"
   ]
  },
  {
   "cell_type": "code",
   "execution_count": null,
   "metadata": {},
   "outputs": [],
   "source": [
    "sand.a"
   ]
  },
  {
   "cell_type": "code",
   "execution_count": null,
   "metadata": {},
   "outputs": [],
   "source": [
    "class Box():\n",
    "    def __init__(self, value):\n",
    "        # Initialize our box.\n",
    "        self.value = value\n",
    "        self.v = 99\n",
    "\n",
    "    def __bool__(self):\n",
    "        # This returns true only if value is 1.\n",
    "        if self.value == 1:\n",
    "            return True\n",
    "        else:\n",
    "            return False"
   ]
  },
  {
   "cell_type": "code",
   "execution_count": null,
   "metadata": {},
   "outputs": [],
   "source": [
    "my_name = Box(9)\n",
    "my_name"
   ]
  },
  {
   "cell_type": "code",
   "execution_count": null,
   "metadata": {},
   "outputs": [],
   "source": [
    "my_name.v"
   ]
  },
  {
   "cell_type": "code",
   "execution_count": null,
   "metadata": {},
   "outputs": [],
   "source": []
  }
 ],
 "metadata": {
  "kernelspec": {
   "display_name": "Python 3",
   "language": "python",
   "name": "python3"
  },
  "language_info": {
   "codemirror_mode": {
    "name": "ipython",
    "version": 3
   },
   "file_extension": ".py",
   "mimetype": "text/x-python",
   "name": "python",
   "nbconvert_exporter": "python",
   "pygments_lexer": "ipython3",
   "version": "3.7.3"
  }
 },
 "nbformat": 4,
 "nbformat_minor": 2
}
